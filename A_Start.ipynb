{
 "cells": [
  {
   "cell_type": "code",
   "execution_count": 1,
   "metadata": {},
   "outputs": [
    {
     "name": "stderr",
     "output_type": "stream",
     "text": [
      "/Users/adam/Projects/23.10.26_FDA_Scraper/.env/lib/python3.9/site-packages/urllib3/__init__.py:34: NotOpenSSLWarning: urllib3 v2.0 only supports OpenSSL 1.1.1+, currently the 'ssl' module is compiled with 'LibreSSL 2.8.3'. See: https://github.com/urllib3/urllib3/issues/3020\n",
      "  warnings.warn(\n"
     ]
    }
   ],
   "source": [
    "from F_Functions import *\n",
    "from C_Classes import SUBMISSION_510K, SUBMISSION_DE_NOVO, SUBMISSION_PMA"
   ]
  },
  {
   "cell_type": "code",
   "execution_count": 4,
   "metadata": {},
   "outputs": [],
   "source": [
    "# Number = 'K232699' #Example of a 510(k) with a machine-readible PDF\n",
    "# Number = 'K991766' #Example of a 510(k) with a photo-copied and not machine-readible PDF\n",
    "\n",
    "# # 510k class\n",
    "# sub1 = SUBMISSION_510K(Number)\n",
    "# sub1.get_510k_summary()\n",
    "# sub1.get_510k_pdf()\n",
    "# sub1.get_510k_IFU()\n",
    "# # sub1.find_potential_predicates(sub1.PDF_Location)\n",
    "# sub1.summarize()\n",
    "\n",
    "\n",
    "# Number = 'DEN130045' # https://www.accessdata.fda.gov/scripts/cdrh/cfdocs/cfpmn/denovo.cfm?id=DEN130045\n",
    "# Number = 'DEN180044' # https://www.accessdata.fda.gov/scripts/cdrh/cfdocs/cfpmn/denovo.cfm?id=DEN180044\n",
    "# Number = 'DEN200030' # https://www.accessdata.fda.gov/scripts/cdrh/cfdocs/cfpmn/denovo.cfm?id=DEN200030\n",
    "\n",
    "# #De Novo class\n",
    "# sub2 = SUBMISSION_DE_NOVO(Number)\n",
    "# # sub2.Submission_Type\n",
    "# # sub2.Submission_Number\n",
    "# sub2.get_De_Novo_summary()\n",
    "# sub2.get_Reclassification_pdf()\n",
    "# sub2.get_FDA_Review_pdf()\n",
    "# # sub2.get_De_Novo_IFU()\n",
    "# sub2.find_potential_predicates(sub2.PDF_Review_Location)\n",
    "# sub2.summarize()\n",
    "\n",
    "\n",
    "# Number = 'P220014'\n",
    "# Number = 'P220004'\n",
    "# Number = 'P230002'\n",
    "# Number = 'P220005'\n",
    "\n",
    "# sub = SUBMISSION_PMA(Number)\n",
    "# sub.get_PMA_summary()\n",
    "# sub.get_FDA_Approval_Order_pdf()\n",
    "# sub.get_FDA_Summary_pdf()\n",
    "# sub.get_FDA_Labeling_pdf()\n",
    "# sub.summarize()\n"
   ]
  },
  {
   "cell_type": "code",
   "execution_count": 5,
   "metadata": {},
   "outputs": [],
   "source": [
    "# https://www.fda.gov/about-fda/cdrh-transparency/evaluation-automatic-class-iii-designation-de-novo-summaries\n",
    "# https://www.fda.gov/medical-devices/510k-clearances/downloadable-510k-files\n"
   ]
  },
  {
   "cell_type": "code",
   "execution_count": 2,
   "metadata": {},
   "outputs": [],
   "source": [
    "# Download FDA Cleared 510(k) Submissions\n",
    "FDA_files = ['pmnlstmn','pmn96cur','pmn9195','pmn8690','pmn8185','pmn7680']\n",
    "FDA_local_files = [download_FDA_file(file) for file in FDA_files]\n",
    "FDA_dataframes = [create_FDA_dataframe(file) for file in FDA_local_files]\n",
    "df = pd.concat(FDA_dataframes)\n",
    "df.shape\n"
   ]
  },
  {
   "cell_type": "code",
   "execution_count": null,
   "metadata": {},
   "outputs": [],
   "source": []
  },
  {
   "cell_type": "markdown",
   "metadata": {},
   "source": [
    "# Sandox"
   ]
  },
  {
   "cell_type": "code",
   "execution_count": 1,
   "metadata": {},
   "outputs": [
    {
     "name": "stderr",
     "output_type": "stream",
     "text": [
      "/Users/adam/Projects/23.10.26_FDA_Scraper/.env/lib/python3.9/site-packages/urllib3/__init__.py:34: NotOpenSSLWarning: urllib3 v2.0 only supports OpenSSL 1.1.1+, currently the 'ssl' module is compiled with 'LibreSSL 2.8.3'. See: https://github.com/urllib3/urllib3/issues/3020\n",
      "  warnings.warn(\n"
     ]
    }
   ],
   "source": [
    "import re\n",
    "import sys\n",
    "import requests\n",
    "import numpy as np\n",
    "import pandas as pd\n",
    "import requests, zipfile, io\n",
    "from PyPDF2 import PdfReader \n",
    "from bs4 import BeautifulSoup\n",
    "\n",
    "from F_Functions import *\n",
    "from C_Classes import *"
   ]
  },
  {
   "cell_type": "code",
   "execution_count": 4,
   "metadata": {},
   "outputs": [],
   "source": [
    "def initialize_class_for_submission(submission_number):\n",
    "    if  re.match('[K,k]\\d{6}', submission_number): \n",
    "        sub = SUBMISSION_510K(submission_number)\n",
    "        sub.get_510k_summary()\n",
    "        sub.get_510k_pdf()\n",
    "        # sub.get_510k_IFU()\n",
    "        sub.find_potential_predicates(sub.PDF_Location)\n",
    "    elif re.match('[D,d][E,e][N,n]\\d{6}', submission_number): \n",
    "        # #De Novo class\n",
    "        sub = SUBMISSION_DE_NOVO(submission_number)\n",
    "        sub.get_De_Novo_summary()\n",
    "        sub.get_Reclassification_pdf()\n",
    "        sub.get_FDA_Review_pdf()\n",
    "        # sub.get_De_Novo_IFU()\n",
    "        sub.find_potential_predicates(sub.PDF_Review_Location)\n",
    "        sub.summarize()\n",
    "    else:\n",
    "        print(\"This does not look like a 510k Submission number!\")\n",
    "        sub = None\n",
    "\n",
    "    return sub"
   ]
  },
  {
   "cell_type": "code",
   "execution_count": 5,
   "metadata": {},
   "outputs": [],
   "source": [
    "starting_submission = 'K232699'\n",
    "starting_sub = initialize_class_for_submission(starting_submission)"
   ]
  },
  {
   "cell_type": "code",
   "execution_count": 6,
   "metadata": {},
   "outputs": [
    {
     "name": "stdout",
     "output_type": "stream",
     "text": [
      "K210392\n",
      "K201446\n",
      "DEN230003\n"
     ]
    },
    {
     "ename": "AttributeError",
     "evalue": "'SUBMISSION_DE_NOVO' object has no attribute 'FDA_Review_URL'",
     "output_type": "error",
     "traceback": [
      "\u001b[0;31m---------------------------------------------------------------------------\u001b[0m",
      "\u001b[0;31mAttributeError\u001b[0m                            Traceback (most recent call last)",
      "\u001b[1;32m/Users/adam/Projects/23.10.26_FDA_Scraper/A_Start.ipynb Cell 12\u001b[0m line \u001b[0;36m5\n\u001b[1;32m      <a href='vscode-notebook-cell:/Users/adam/Projects/23.10.26_FDA_Scraper/A_Start.ipynb#X35sZmlsZQ%3D%3D?line=2'>3</a>\u001b[0m \u001b[39mfor\u001b[39;00m predicate \u001b[39min\u001b[39;00m starting_sub\u001b[39m.\u001b[39mPotential_Predicates:\n\u001b[1;32m      <a href='vscode-notebook-cell:/Users/adam/Projects/23.10.26_FDA_Scraper/A_Start.ipynb#X35sZmlsZQ%3D%3D?line=3'>4</a>\u001b[0m     \u001b[39mprint\u001b[39m(predicate)\n\u001b[0;32m----> <a href='vscode-notebook-cell:/Users/adam/Projects/23.10.26_FDA_Scraper/A_Start.ipynb#X35sZmlsZQ%3D%3D?line=4'>5</a>\u001b[0m     predicate_sub \u001b[39m=\u001b[39m initialize_class_for_submission(predicate)\n\u001b[1;32m      <a href='vscode-notebook-cell:/Users/adam/Projects/23.10.26_FDA_Scraper/A_Start.ipynb#X35sZmlsZQ%3D%3D?line=5'>6</a>\u001b[0m     list_of_edges\u001b[39m.\u001b[39mappend(starting_sub\u001b[39m.\u001b[39mSubmission_Number \u001b[39m+\u001b[39m \u001b[39m'\u001b[39m\u001b[39m -> \u001b[39m\u001b[39m'\u001b[39m \u001b[39m+\u001b[39m predicate_sub\u001b[39m.\u001b[39mSubmission_Number)\n\u001b[1;32m      <a href='vscode-notebook-cell:/Users/adam/Projects/23.10.26_FDA_Scraper/A_Start.ipynb#X35sZmlsZQ%3D%3D?line=6'>7</a>\u001b[0m     first_layer\u001b[39m.\u001b[39mappend(predicate_sub)\n",
      "\u001b[1;32m/Users/adam/Projects/23.10.26_FDA_Scraper/A_Start.ipynb Cell 12\u001b[0m line \u001b[0;36m1\n\u001b[1;32m     <a href='vscode-notebook-cell:/Users/adam/Projects/23.10.26_FDA_Scraper/A_Start.ipynb#X35sZmlsZQ%3D%3D?line=10'>11</a>\u001b[0m sub\u001b[39m.\u001b[39mget_De_Novo_summary()\n\u001b[1;32m     <a href='vscode-notebook-cell:/Users/adam/Projects/23.10.26_FDA_Scraper/A_Start.ipynb#X35sZmlsZQ%3D%3D?line=11'>12</a>\u001b[0m sub\u001b[39m.\u001b[39mget_Reclassification_pdf()\n\u001b[0;32m---> <a href='vscode-notebook-cell:/Users/adam/Projects/23.10.26_FDA_Scraper/A_Start.ipynb#X35sZmlsZQ%3D%3D?line=12'>13</a>\u001b[0m sub\u001b[39m.\u001b[39;49mget_FDA_Review_pdf()\n\u001b[1;32m     <a href='vscode-notebook-cell:/Users/adam/Projects/23.10.26_FDA_Scraper/A_Start.ipynb#X35sZmlsZQ%3D%3D?line=13'>14</a>\u001b[0m \u001b[39m# sub.get_De_Novo_IFU()\u001b[39;00m\n\u001b[1;32m     <a href='vscode-notebook-cell:/Users/adam/Projects/23.10.26_FDA_Scraper/A_Start.ipynb#X35sZmlsZQ%3D%3D?line=14'>15</a>\u001b[0m sub\u001b[39m.\u001b[39mfind_potential_predicates(sub\u001b[39m.\u001b[39mPDF_Review_Location)\n",
      "File \u001b[0;32m~/Projects/23.10.26_FDA_Scraper/C_Classes.py:191\u001b[0m, in \u001b[0;36mSUBMISSION_DE_NOVO.get_FDA_Review_pdf\u001b[0;34m(self, output_folder, silent)\u001b[0m\n\u001b[1;32m    190\u001b[0m \u001b[39mdef\u001b[39;00m \u001b[39mget_FDA_Review_pdf\u001b[39m(\u001b[39mself\u001b[39m,output_folder\u001b[39m=\u001b[39m\u001b[39m'\u001b[39m\u001b[39m./output_folder/\u001b[39m\u001b[39m'\u001b[39m,silent\u001b[39m=\u001b[39m\u001b[39mTrue\u001b[39;00m):\n\u001b[0;32m--> 191\u001b[0m     success \u001b[39m=\u001b[39m \u001b[39mself\u001b[39m\u001b[39m.\u001b[39mget_pdf(\u001b[39m\"\u001b[39m\u001b[39mReview\u001b[39m\u001b[39m\"\u001b[39m,\u001b[39mself\u001b[39;49m\u001b[39m.\u001b[39;49mFDA_Review_URL,output_folder\u001b[39m=\u001b[39moutput_folder,silent\u001b[39m=\u001b[39msilent)\n\u001b[1;32m    193\u001b[0m     \u001b[39mif\u001b[39;00m success:\n\u001b[1;32m    194\u001b[0m         \u001b[39mself\u001b[39m\u001b[39m.\u001b[39mPDF_Review_Downloaded \u001b[39m=\u001b[39m \u001b[39m\"\u001b[39m\u001b[39mYes\u001b[39m\u001b[39m\"\u001b[39m\n",
      "\u001b[0;31mAttributeError\u001b[0m: 'SUBMISSION_DE_NOVO' object has no attribute 'FDA_Review_URL'"
     ]
    }
   ],
   "source": [
    "first_layer = []\n",
    "list_of_edges = []\n",
    "for predicate in starting_sub.Potential_Predicates:\n",
    "    print(predicate)\n",
    "    predicate_sub = initialize_class_for_submission(predicate)\n",
    "    list_of_edges.append(starting_sub.Submission_Number + ' -> ' + predicate_sub.Submission_Number)\n",
    "    first_layer.append(predicate_sub)"
   ]
  },
  {
   "cell_type": "code",
   "execution_count": null,
   "metadata": {},
   "outputs": [],
   "source": [
    "list_of_edges"
   ]
  }
 ],
 "metadata": {
  "kernelspec": {
   "display_name": ".env",
   "language": "python",
   "name": "python3"
  },
  "language_info": {
   "codemirror_mode": {
    "name": "ipython",
    "version": 3
   },
   "file_extension": ".py",
   "mimetype": "text/x-python",
   "name": "python",
   "nbconvert_exporter": "python",
   "pygments_lexer": "ipython3",
   "version": "3.9.6"
  }
 },
 "nbformat": 4,
 "nbformat_minor": 2
}
