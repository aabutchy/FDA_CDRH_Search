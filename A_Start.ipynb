{
 "cells": [
  {
   "cell_type": "code",
   "execution_count": 2,
   "metadata": {},
   "outputs": [],
   "source": [
    "from C_Classes import SUBMISSION_510K, SUBMISSION_DE_NOVO"
   ]
  },
  {
   "cell_type": "code",
   "execution_count": 6,
   "metadata": {},
   "outputs": [
    {
     "name": "stdout",
     "output_type": "stream",
     "text": [
      "Submission_Number: DEN180044 \n",
      "Submission_Type: De Novo 510(k) \n",
      "URL: https://www.accessdata.fda.gov/scripts/cdrh/cfdocs/cfpmn/denovo.cfm?id=DEN180044 \n",
      "Device_Classification_Name: electrocardiograph software for over-the-counter use \n",
      "De_Novo_Number: DEN180044 \n",
      "Device_Name: ECG App \n",
      "Requester: Apple Incc/o biologics consulting group400 n washington st., suite 100alexandria,VA22314 \n",
      "Contact: donna-bea  tillman \n",
      "Regulation_Number: 870.2345 \n",
      "Classification_Product_Code: QDA \n",
      "Date_Received: 08/14/2018 \n",
      "Decision_Date: 09/11/2018 \n",
      "Decision: granted (DENG) \n",
      "Classification_Advisory_Committee: Cardiovascular \n",
      "Review_Advisory_Committee: Cardiovascular \n",
      "Reclassification_Order: Reclassification Order \n",
      "Reclassification_Order_URL: https://www.accessdata.fda.gov/cdrh_docs/pdf18/DEN180044.pdf \n",
      "FDA_Review: Decision Summary \n",
      "FDA_Review_URL: http://www.accessdata.fda.gov/cdrh_docs/reviews/DEN180044.pdf \n",
      "Type: Direct \n",
      "PDF_Reclassification_Downloaded: Yes \n",
      "PDF_Reclassification_Readable: Unknown \n",
      "PDF_Reclassification_Location: ./output_folder/De_Novo_Reclassification_DEN180044.pdf \n",
      "PDF_Review_Downloaded: Yes \n",
      "PDF_Review_Readable: Yes \n",
      "PDF_Review_Location: ./output_folder/De_Novo_Review_DEN180044.pdf \n",
      "IFU: The ECG app is a software- only mobile medical application intended for use with the Apple Watch to create, record, store, transfer, and display a single channel electrocardiogram (ECG) similar to a Lead I ECG. The ECG app determines th e presence of atrial fibrillation (AF ib) or sinus rhythm on a classifiable waveform. The ECG app is not recommended for users with other known arrhythmias. The ECG app is intended for over -the-counter (OTC) use. The ECG data displayed by the ECG app is i ntended for informational use only. The user is not intended to interpret or take clinical action based on the device output without consultation of a qualified healthcare professional. The ECG waveform is meant to supplement rhythm classification for the purposes of discriminating AF ib from normal sinus rhythm and not intended to replace traditional methods of diagnosis or treatment. The ECG app is not intended for use by people under 22 years old. \n",
      "\n"
     ]
    }
   ],
   "source": [
    "Number = 'K232699' #Example of a 510(k) with a machine-readible PDF\n",
    "Number = 'K991766' #Example of a 510(k) with a photo-copied and not machine-readible PDF\n",
    "Number = 'DEN130045' # https://www.accessdata.fda.gov/scripts/cdrh/cfdocs/cfpmn/denovo.cfm?id=DEN130045\n",
    "Number = 'DEN180044' # https://www.accessdata.fda.gov/scripts/cdrh/cfdocs/cfpmn/denovo.cfm?id=DEN180044\n",
    "Number = 'DEN200030' # https://www.accessdata.fda.gov/scripts/cdrh/cfdocs/cfpmn/denovo.cfm?id=DEN200030\n",
    "\n",
    "# # 510k class\n",
    "# sub1 = SUBMISSION_510K(Number)\n",
    "# sub1.get_510k_summary()\n",
    "# sub1.get_510k_pdf()\n",
    "# sub1.get_510k_IFU()\n",
    "# sub1.summarize()\n",
    "\n",
    "#De Novo class\n",
    "sub2 = SUBMISSION_DE_NOVO(Number)\n",
    "sub2.Submission_Type\n",
    "sub2.Submission_Number\n",
    "sub2.get_De_Novo_summary()\n",
    "sub2.get_Reclassification_pdf()\n",
    "sub2.get_FDA_Review_pdf()\n",
    "sub2.get_De_Novo_IFU()\n",
    "sub2.summarize()\n"
   ]
  },
  {
   "cell_type": "code",
   "execution_count": null,
   "metadata": {},
   "outputs": [],
   "source": []
  }
 ],
 "metadata": {
  "kernelspec": {
   "display_name": ".env",
   "language": "python",
   "name": "python3"
  },
  "language_info": {
   "codemirror_mode": {
    "name": "ipython",
    "version": 3
   },
   "file_extension": ".py",
   "mimetype": "text/x-python",
   "name": "python",
   "nbconvert_exporter": "python",
   "pygments_lexer": "ipython3",
   "version": "3.9.6"
  }
 },
 "nbformat": 4,
 "nbformat_minor": 2
}
