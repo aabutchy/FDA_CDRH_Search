{
 "cells": [
  {
   "cell_type": "code",
   "execution_count": 1,
   "metadata": {},
   "outputs": [],
   "source": [
    "from C_Classes import SUBMISSION_510K"
   ]
  },
  {
   "cell_type": "markdown",
   "metadata": {},
   "source": [
    "To Do:\n",
    "-----\n",
    "-----\n",
    "1. 510(k)\n",
    "    * Digest a summary page (done)\n",
    "    * Digest a summary pdf (done)\n",
    "    ------\n",
    "2. De Novo\n",
    "    * Digest a summary page\n",
    "    * Digest a summary pdf\n",
    "   ------\n",
    "3. Database Query\n",
    "    * Get a list of summary pages\n",
    "    * Iteratively call relevant digest functions"
   ]
  },
  {
   "cell_type": "code",
   "execution_count": null,
   "metadata": {},
   "outputs": [],
   "source": [
    "Number = 'K232699' #Example of a 510(k) with a machine-readible PDF\n",
    "Number = 'K991766' #Example of a 510(k) with a photo-copied and not machine-readible PDF\n",
    "\n",
    "Summary = get_510k_summary(Number)\n",
    "Summary = get_510k_pdf(Summary)\n",
    "Summary = get_510k_IFU(Summary)\n",
    "\n",
    "# Summary"
   ]
  },
  {
   "cell_type": "code",
   "execution_count": 2,
   "metadata": {},
   "outputs": [],
   "source": [
    "sub1 = SUBMISSION_510K(\"K232699\")\n",
    "sub1.get_510k_summary()\n",
    "sub1.get_510k_pdf()"
   ]
  },
  {
   "cell_type": "code",
   "execution_count": 3,
   "metadata": {},
   "outputs": [
    {
     "name": "stdout",
     "output_type": "stream",
     "text": [
      "0 : dministration 10903 New Hampshire Avenue D o c I D # 0 4 0 1 7 . 0 6.03 Silver Spring, MD 20993 www.fda.gov September 28, 2023 Anumana, Inc. ℅ Alexia Haralambous Senior Principal RQM+ 2251 San Diego Ave, Suite B -257 San Diego, California 92110 Re: K232699 Trade/Device Name: Low Ejection Fraction AI -ECG Algorithm Regulation Number: 21 CFR 870.2380 Regulation Name: Cardiovascular Machine Learning -Based Notification Software Regulatory Class: Class II Product Code: QY E Dated: September 3, 2023 Received: September 5, 2023 Dear Alexia Haralambous: We have revi ewed your Section 510(k) premarket notification of intent to market the device referenced above and have determined the device is substantially equivalent (for the indications for use stated in the enclosure) to legally marketed predicate devices marketed in interstate commerce prior to May 28, 1976, the enactment date of the Medical Device Amendments, or to devices that have been reclassified in accordance with the provisions of the Federal Food, Drug, and Cosmetic Act (Act) that do not require approval of a premarket approval application (PMA). You may, therefore, market the device, subject to the general controls provisions of the Act. Although this letter refers to your product as a device, please be aware that some cleared products may instead be combin ation products. The 510(k) Premarket Notification Database located at https://www.accessdata.fda.gov/scripts/cdrh/cfdocs/cfpmn/pmn.cfm identifies combination product submissions. The general controls provisions of the Act include r equirements for annual registration, listing of devices, good manufacturing practice, labeling, and prohibitions against misbranding and adulteration. Please note: CDRH does not evaluate information related to contract liability warranties. We remind you, however, that device labeling must be truthful and not misleading. If your device is classified (see above) into either class II (Special Controls) or class III (PMA), it may be subject to additional controls. Existing major regulations affecting your de vice can be found in the Code of Federal Regulations, Title 21, Parts 800 to 898. In addition, FDA may publish further announcements concerning your device in the Federal Register . Please be advised that FDA's issuance of a substantial equivalence determi nation does not mean that FDA has made a determination that your device complies with other requirements of the Act or any Federal K232699 - Alexia Haralambous Page 2 statutes and regulations administered by other Federal agencies. You must comply with all the Act's requirements, including, but not limited to: registration and listing (21 CFR Part 807); labeling (21 CFR Part 801); medical device reporting (reporting of medical device -related adverse events) (21 CFR 803) for devices or postmarketing safety reporting (21 CFR 4, Subpart B) for c ombination products (see https://www.fda. gov/combination -products/guidance -regulatory -information/postmarketing -safety -reporting - combination -products ); good manufacturing practice requirements as set forth in the quality systems (QS) regulation (21 CFR Part 820) for devices or cur rent good manufacturing practices (21 CFR 4, Subpart A) for combination products; and, if applicable, the electronic product radiation control provisions (Sections 531 - 542 of the Act); 21 CFR 1000 -1050. Also, please note the regulation entitled, \"Misbranding by reference to premarket notification\" (21 CFR Part 807.97). For questions regarding the reporting of adverse events under the MDR regulation (21 CFR Part 803), please go to https://www.fda.gov/medical -devices/medical -device -safety/medical -device -reporting - mdr-how-report -medical -device -problems . For comprehensive regulatory information about medical devices and radiation -emitting products, including information about labeling regulations, please see Device Advice ( https://www.fda.gov/medical - devices/device -advice -comprehensive -regulatory -assistance ) and CDRH Learn (https://www.fda.gov/training -and-continuing -education/cdrh -learn ). Additionally, you may contact the Division of Industry and Consumer Education (DICE) to ask a question about a specific regulatory topic. See the DICE website ( https://www.fda.gov/medical -devices/device -advice -comprehensive -regulatory - assistance/contact -us-division -industry -and-consumer -education -dice) for more information or contact DICE by email ( DICE@fda.hhs. gov) or phone (1 -800-638-2041 or 301 -796-7100). Sincerely, for LCDR Stephen Browning Assistant Director Division of Cardiac Electrophysiology, Diagnostics , and Monitoring Devices Office of Cardiovascular Devices Office of Product Evaluation and Quality Center for Devices and Radiological Health Enclosure Robert T. Kazmierski -SFORM FDA 3881 (8/23) Page 1 of 1 PSC Publishing Services (301) 443-6740 EFDEPARTMENT OF HEALTH AND HUMAN SERVICES Food and Drug Administration \n",
      "1 : Form Approved: OMB No. 0910-0120 Expiration Date: 07/31/2026 See PRA Statement below. 510(k) Number (if known) K232699 Device Name Low Ejection Fraction AI ECG Algorithm \n",
      "2 :  (Describe) The Anumana Low Ejection Fraction AI-ECG Algorithm is software intended to aid in screening for Left Ventricular Ejection Fraction (LVEF) less than or equal to 40% in adults at risk for heart failure. This population includes, but is not limited to: • patients with cardiomyopathies • patients who are post-myocardial infarction • patients with aortic stenosis • patients with chronic atrial fibrillation • patients receiving pharmaceutical therapies that are cardiotoxic, and • postpartum women. Anumana Low Ejection Fraction AI-ECG Algorithm is not intended to be a stand-alone diagnostic device for cardiac conditions, should not be used for monitoring of patients, and should not be used on ECGs with a paced rhythm. A positive result may suggest the need for further clinical evaluation in order to establish a diagnosis of Left Ventricular Ejection Fraction (LVEF) less than or equal to 40%. Additionally, if the patient is at high risk for the cardiac condition, a negative result should not rule out further non-invasive evaluation. The Anumana Low Ejection Fraction AI-ECG Algorithm should be applied jointly with clinician judgment. Type of Use (Select one or both, as applicable) Prescription Use (Part 21 CFR 801 Subpart D) Over-The-Counter Use (21 CFR 801 Subpart C) CONTINUE ON A SEPARATE PAGE IF NEEDED. This section applies only to requirements of the Paperwork Reduction Act of 1995. *DO NOT SEND YOUR COMPLETED FORM TO THE PRA STAFF EMAIL ADDRESS BELOW.* The burden time for this collection of information is estimated to average 79 hours per response, including the time to review instructions, search existing data sources, gather and maintain the data needed and complete and review the collection of information. Send comments regarding this burden estimate or any other aspect of this information collection, including suggestions for reducing this burden, to: Department of Health and Human Services Food and Drug Administration Office of Chief Information Officer Paperwork Reduction Act (PRA) Staff PRAStaff@fda.hhs.gov “An agency may not conduct or sponsor, and a person is not required to respond to, a collection of information unless it displays a currently valid OMB number.”510(k) Summary Low Ejection Fraction AI ECG Algorithm K232699 A pplicant Name: C ontact Person: C onsultant: D ate Summary Prepared : P roprietary Name of Device: Common or Usual Name: Classification Panel: Regulation Number: Regulation Name: Regulation Class: Product Code: 1 Predicate Device Device Name: Manufacturer: Application Number: Anumana, Inc. One Main Street, Suite 400 East Arcade 4th Floor Cambridge, MA 02142 Suzanne Goodman VP Regulatory and Q uality Anumana, Inc. Tel. (919) 608-6082 sgoodman@nference.net Alexia Haralambous, MS , RAC Allison Komiyama, Ph.D, RAC Erin Gontang, Ph.D. RQM+ aharalambous@rqmplus.com Tel. (267) 778-5114 September 2 2, 2023 Low Ejection Fraction AI ECG Algorithm ECG AI analysis tool Cardiology 21 CFR § 8 70.2380 Cardiovascular machine learning-based notification software Class II QYE VIZ HCM Viz.ai DEN230003 2 Device Description The Low Ejection Fraction AI- ECG Algorithm interprets 12 -lead ECG voltage times series data using an artificial intelligence -based algorithm. The device analyzes 10 seconds of a single 12- lead ECG acquisition, and within seconds provides a prediction of likelihood of LVEF (ejection fraction less than or equal to 40%) to third party software. The results are displayed by the third - party software on a device such as a smartphone, tablet, or PC. The Low Ejection Fraction AI- ECG Algorithm was trained to predict Low LVEF using positive and control cohorts, and the prediction of Low LVEF in patients is generated using defined conditions and covariates. The Low Ejection Fraction AI-ECG Algorithm device is intended to address the unmet need for a point-of- care screen for LVEF less than or equ al to 40% and is expected to be used by K232699 Page 1 of 9510(k) Summary Low Ejection Fraction AI ECG Algorithm cardiologists, front -line clinicians at primary care, urgent care, and emergency care settings, where cardiac imaging may not be available or may be difficult or unreliable for clinicians to operate. Clinicians will use the Low Ejection Fraction AI- ECG Algorithm to aid in screening for LVEF less than or equal to 40% and making a decision for further cardiac evaluation. 3 Intended Use/\n",
      "3 :  The Anumana Low Ejection Fraction AI- ECG Algorithm is software intended to aid in screening for Left Ventricular Ejection Fraction (LVEF) less than or equal to 40% in adults at risk for heart failure. This population includes, but is not limited to: • patients with cardiomyopathies • patients who are post -myocard ial infarction • patients with aortic stenosis • patients with chronic atrial fibrillation • patients receiving pharmaceutical therapies that are cardiotoxic, and • postpartum women. A numana Low Ejection Fraction AI- ECG Algorithm is not intended to be a stand -alone diagnostic device for cardiac conditions, should not be used for monitoring of patients, and should not be used on ECGs with a paced rhythm. A positive result may suggest the need for further clinical evaluation in order to establish a diagnosis of Left Ventricular Ejection Fraction (LVEF) less than or equal to 40%. Additionally, if the patient is at high risk for the cardiac condition, a negative result should not rule out further non-invasive evaluation. T he Anumana Low Ejection Fraction AI- ECG Algorithm should be applied jointly with clinician judgment. 4 Technological Characteristics The subject device, Anumana’s Low Ejection Fraction AI- ECG Algorithm, is a Software as a Medical Device (SaMD) provided as a software module packaged in a Docker container. The Low Ejection Fraction AI- ECG Algorithm does not provide a graphical user interface (GUI) of its own. It is integrated with other medical systems such as Electronic Medical Record (EMR) systems or ECG Management Systems (EMS). The third -party integrating software furnishes a 12-lead ECG digital waveform as input to the Low Ejection Fraction AI-ECG Algorithm and records the algorithm output for display via the integrated medical system or for printing in anoffline report. 5 Summary of Clinical Performance Data The performance characteristics for the Low Ejection Fraction AI-ECG Algorithm have been clinically validated for the presence of a low ejection fraction of less than or equal to 40% in patients, with a sensitivity and specificity greater than the study’s predetermined acceptance criteria (80%). K232699 Page 2 of 9510(k) Summary Low Ejection Fraction AI ECG Algorithm Table 1: Performance Characteristics Performance Characteristic Value Sensitivity 80% or higher Specificity 80% or higher A lgorithm Training To develop the Anumana Low Ejection Fraction AI -ECG (Low EF ECG -AI) algorithm, 93,722 patients with an ECG and transthoracic echocardiogram (TTE) performed within a 2 -week interval were identified from a research use authorized clinical database from Mayo Clinic. For each patient, t he left ventricular ejection fraction (LVEF) measurement from the earliest TTE was selected and paired with the closest ECG recording within a 2-week interval of the TTE. The disease cohort was defined as LVEF ≤ 40% and consisted of 11% of the overall cohort. The control cohort was defined as LVEF > 40% and consisted of 89% of the overall cohort. The cohorts were split into training (50%), tuning (20%) and set-aside testing (30%) datasets. Within the set -aside test set, the sensitivity and specificity of th e algorithm were 85.7% and 84.2%, respectively. P erformance analyses were also conducted in subgroups of age, sex, and race. Within the training set- aside test dataset, 91.2% of patients were White, 1.4% Black/African American, 1.3% Asian, 0.4% American Indian and 5.7% were of other or unknown races. Patients were 57.6% male and 43.4% female. The average age was 61.5 (± 16.4) years and 11.2% of patients were under age 40, 10.0% were 40-49, 18.1% were 50-59, 25.9% were 60-69, 22.3% were 70-79, and 12.5% were over 80. S ummary of Clinical Validation St udy Design The performance profile of the Anumana Low Ejection Fraction AI- ECG (Low EF AI -ECG) algorithm was validated in a retrospective study of 16,000 patient records across 4 health systems across the United States and 16,000 patients. The objective of the study was to establish the diagnostic performance of the device for the purpose of detecting the pre sence of an EF ≤ 40% in a clinically and demographically diverse population. The sole inclusion criteria for a subject was age ≥ 18 and the availability of at least one digital 12 -lead ECG paired with an echocardiogram with quantitative left ventricular ej ection fraction (LVEF) information within 30 days following the date of the ECG. Candidate cases were identified in reverse chronological order from the date the site was activated. For each patient, the most recent echocardiogram was paired with the most recent ECG (without pacing present) acquired for that patient prior to the echocardiogram, up to the 30 days limit. Four models of 12- L ECGs (GE D ash 3000, GE MAC® 5500 Resting Analysis System, GE MAC VU360 Resting ECG, and Philips PageWriter TC70 ECG mach ines (model 860315) were represented in the ECG inputs to the algorithm. Sum mary of Study Results Each of the 4 sites contributed 4,000 patient-ECG pairs to a final pool of 16,000 patient- ECG pairs. The study sample was representative of the US population and was 65.9% White, 11.0% K232699 Page 3 of 9510(k) Summary Low Ejection Fraction AI ECG Algorithm Hispanic, 10.1% Black/African American, 5.3% American Indian or Alaska Native, 2.2% Asian, and 0.4% Native Hawaiian or Pacific Islander. The sample consisted of 52% male and 48% female participants. The average age as 66 and 11.6% of participants were under age 40, 9.2% were 40 -49, 15.8% were 50-59, 22.8% were 60-69, 21.6% were 70-79, and 19% were over 80. A total of 2,040 records were excluded as a result of the quality checks performed by the Anumana Low Ejection Fraction AI- ECG (Low EF AI -ECG) algorithm. W ithin this diverse study sample, a total of 1,096 LVEF ≤ 40% cases were identified (prevalence of 7.9%) from 13,960 samples. The Anumana Low EF ECG- AI device achieved a sensitivity of 84.5% (95% CI of 82.2% to 86.6%), a specificity of 83.6% (95% CI of 82.9% to 84.2%), a positive predictive value of 30.5% (PPV, 95% CI of 28.8% to 32.1%), and a negative predictive value of 98.4% (NPV, 95% CI of 98.2% to 98.7%). Results are provided in Figure 1 : Matrix of primary results with s ubgroup analyses results provided in Table 2: Subgroup Analyses. Fi gure 1: Matrix of primary results Subg roup Analyses Subgroup assessments of diagnostic performance were conducted to determine if there was heterogeneity in device performance across clinical sites, demographics, clinical characteristics, conduction disorders, ECG manufacturer, and ECG devices. To assess for heterogeneity, Breslow - Day tests for the strata were conducted on the odds ratio for condition presence given a positive ECG- AI result. The results are summarized in Table 2 below. K232699 Page 4 of 9510(k) Summary Low Ejection Fraction AI ECG Algorithm Ta ble 2: Subgroup Analyses Subgroup Analysis Result of Test for Heterogeneity Clinical Site Not statistically significant Biological Sex Not statistically significant Race/Ethnicity Not statistically significant Age Group Diagnostic performance varied across age strata (p < 0.01). The diagnostic odds ratio was higher than the overall estimate in patients aged 40 to 69 years and lower in younger and older patients. In younger patients, sensitivity was lower while specificity was higher, whereas in patients of advanced age, sensitivity was higher while specificity was lo wer. Clinical Characteristics ●Diagnostic performance varied across body mass index strata (p = 0.02), with the lowest diagnostic performance observed in underweight (BMI <18.5 kg/m2) participants and the highest diagnostic performance observed in overweig ht (BMI 25+ to <30) and obese (BMI 30+) participants. ●Diagnostic performance varied across certain elements of medical history derived from ICD9/ICD10 codes in patient medical records. The diagnosticodds ratio was lower in patients with prior history of heart failure (p<0.01), myocardial infarction (p<0.01) and coronary revascularization (p=0.07). I n each of these cases, the disease prevalence was high (>17% for the thr ee c onditions) and the algorithm had higher sensitivity and lower specificity. This co mbination, at the higher prevalence values, resulted in robust positive predictive value (>35%) and negative predictive value (>94%). Conduction Disorders Not statistically significant ECG Manufacturer Not statistically significant ECG Device Not statistically significant 6 Summary of Non -Clinical Performance Data The performance characteristics for the Low Ejection Fraction AI-ECG Algorithm have been evaluated with the following non- clinical testing: software verification and validation (per IEC 62304) , cybersecurity, labeling validation, and human factors. Subs tantial Equivalence Conclusion The subject device, Anumana Low Ejection Fraction AI- ECG Algorithm, is substantially equivalent to the predicate device Viz HCM (DEN230003). The devices have similar intended uses, principles of operation, and technical characteristics. Where differences occur between the subject device and the predicate, results of clinical performance and results of non- clinical verification and validation demonstrate that the subject device is as safe and as effective as the predicate. K232699 Page 5 of 9510(k) Summary Low Ejection Fraction AI ECG Algorithm Ta ble 3: Substantial Equivalence Comparison of Subject Device to the Predicate Subject Device Predicate Device Product Name Anumana Low Ejection Fraction AI-ECG Algorithm Viz HCM Comparison Application No. K232699 DEN230003 - Product Code s QXX DQK QXO - Regulation No. 21 CFR 870.2380 21 CFR 870.2380 21 CFR 870.1425 - Regulation Name Cardiovascular machine learning - based notification software Cardiovascular machine learning - based notification software - Rx / OTC Rx Rx Same Intended Use/ \n"
     ]
    }
   ],
   "source": [
    "sub1.get_510k_IFU()"
   ]
  },
  {
   "cell_type": "code",
   "execution_count": 4,
   "metadata": {},
   "outputs": [
    {
     "name": "stdout",
     "output_type": "stream",
     "text": [
      "Submission_Number: K232699 \n",
      "Submission_Type: 510K \n",
      "URL: https://www.accessdata.fda.gov/scripts/cdrh/cfdocs/cfpmn/pmn.cfm?ID=K232699 \n",
      "Device_Name: Low Ejection Fraction AI-ECG Algorithm \n",
      "Applicant: Anumana, Inc.One Main Street, Suite 400East Arcade, 4th FloorCambridge,MA02142 \n",
      "Applicant_Contact: Suzanne  Goodman \n",
      "Correspondent: RQM+2251 San Diego Ave, Suite B-257San Diego,CA92110 \n",
      "Correspondent_Contact: Alexia  Haralambous \n",
      "Classification_Product_Code: QYE \n",
      "Date_Received: 09/05/2023 \n",
      "Decision_Date: 09/28/2023 \n",
      "Decision: Substantially Equivalent (SESE) \n",
      "Regulation_Medical_Specialty: Cardiovascular \n",
      "510k_Review_Panel: Cardiovascular \n",
      "Summary: Summary \n",
      "Summary_URL: https://www.accessdata.fda.gov/cdrh_docs/pdf23/K232699.pdf \n",
      "Type: Traditional \n",
      "Reviewed_by_Third_Party: No \n",
      "Combination_Product: No \n",
      "PDF_Downloaded: Yes \n",
      "PDF_Readable: Yes \n",
      "PDF_Location: ./output_folder/K232699.pdf \n",
      "IFU:  The Anumana Low Ejection Fraction AI-ECG Algorithm is software intended to aid in screening for Left Ventricular Ejection Fraction (LVEF) less than or equal to 40% in adults at risk for heart failure. This population includes, but is not limited to: • patients with cardiomyopathies • patients who are post-myocardial infarction • patients with aortic stenosis • patients with chronic atrial fibrillation • patients receiving pharmaceutical therapies that are cardiotoxic, and • postpartum women. Anumana Low Ejection Fraction AI-ECG Algorithm is not intended to be a stand-alone diagnostic device for cardiac conditions, should not be used for monitoring of patients, and should not be used on ECGs with a paced rhythm. A positive result may suggest the need for further clinical evaluation in order to establish a diagnosis of Left Ventricular Ejection Fraction (LVEF) less than or equal to 40%. Additionally, if the patient is at high risk for the cardiac condition, a negative result should not rule out further non-invasive evaluation. The Anumana Low Ejection Fraction AI-ECG Algorithm should be applied jointly with clinician judgment.  \n",
      "\n"
     ]
    }
   ],
   "source": [
    "sub1.summarize()"
   ]
  }
 ],
 "metadata": {
  "kernelspec": {
   "display_name": ".env",
   "language": "python",
   "name": "python3"
  },
  "language_info": {
   "codemirror_mode": {
    "name": "ipython",
    "version": 3
   },
   "file_extension": ".py",
   "mimetype": "text/x-python",
   "name": "python",
   "nbconvert_exporter": "python",
   "pygments_lexer": "ipython3",
   "version": "3.9.6"
  }
 },
 "nbformat": 4,
 "nbformat_minor": 2
}
