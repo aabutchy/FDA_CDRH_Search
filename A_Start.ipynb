{
 "cells": [
  {
   "cell_type": "code",
   "execution_count": 1,
   "metadata": {},
   "outputs": [
    {
     "name": "stderr",
     "output_type": "stream",
     "text": [
      "/Users/adam/Projects/23.10.26_FDA_Scraper/.env/lib/python3.9/site-packages/urllib3/__init__.py:34: NotOpenSSLWarning: urllib3 v2.0 only supports OpenSSL 1.1.1+, currently the 'ssl' module is compiled with 'LibreSSL 2.8.3'. See: https://github.com/urllib3/urllib3/issues/3020\n",
      "  warnings.warn(\n"
     ]
    }
   ],
   "source": [
    "from C_Classes import SUBMISSION_510K, SUBMISSION_DE_NOVO"
   ]
  },
  {
   "cell_type": "code",
   "execution_count": 5,
   "metadata": {},
   "outputs": [
    {
     "name": "stdout",
     "output_type": "stream",
     "text": [
      "This does not look like a 510k Submission number!\n"
     ]
    }
   ],
   "source": [
    "# Number = 'K232699' #Example of a 510(k) with a machine-readible PDF\n",
    "# Number = 'K991766' #Example of a 510(k) with a photo-copied and not machine-readible PDF\n",
    "# Number = 'DEN130045' # https://www.accessdata.fda.gov/scripts/cdrh/cfdocs/cfpmn/denovo.cfm?id=DEN130045\n",
    "# Number = 'DEN180044' # https://www.accessdata.fda.gov/scripts/cdrh/cfdocs/cfpmn/denovo.cfm?id=DEN180044\n",
    "# Number = 'DEN200030' # https://www.accessdata.fda.gov/scripts/cdrh/cfdocs/cfpmn/denovo.cfm?id=DEN200030\n",
    "\n",
    "# 510k class\n",
    "# sub1 = SUBMISSION_510K(Number)\n",
    "# sub1.get_510k_summary()\n",
    "# sub1.get_510k_pdf()\n",
    "# sub1.get_510k_IFU()\n",
    "# sub1.find_potential_predicates(sub1.PDF_Location)\n",
    "# sub1.summarize()\n",
    "\n",
    "# #De Novo class\n",
    "# sub2 = SUBMISSION_DE_NOVO(Number)\n",
    "# sub2.Submission_Type\n",
    "# sub2.Submission_Number\n",
    "# sub2.get_De_Novo_summary()\n",
    "# sub2.get_Reclassification_pdf()\n",
    "# sub2.get_FDA_Review_pdf()\n",
    "# sub2.get_De_Novo_IFU()\n",
    "# sub2.find_potential_predicates(sub2.PDF_Review_Location)\n",
    "# sub2.summarize()\n"
   ]
  },
  {
   "cell_type": "code",
   "execution_count": null,
   "metadata": {},
   "outputs": [],
   "source": [
    "# https://www.fda.gov/about-fda/cdrh-transparency/evaluation-automatic-class-iii-designation-de-novo-summaries\n",
    "# https://www.fda.gov/medical-devices/510k-clearances/downloadable-510k-files\n"
   ]
  },
  {
   "cell_type": "code",
   "execution_count": 6,
   "metadata": {},
   "outputs": [],
   "source": [
    "import numpy as np\n",
    "import pandas as pd\n",
    "import requests, zipfile, io"
   ]
  },
  {
   "cell_type": "code",
   "execution_count": null,
   "metadata": {},
   "outputs": [],
   "source": [
    "def download_FDA_file(file):\n",
    "    URL = 'https://www.accessdata.fda.gov/premarket/ftparea/' + file + '.zip'\n",
    "    file = './FDA_database_files/' + file + '.txt' \n",
    "    r = requests.get(URL)\n",
    "    z = zipfile.ZipFile(io.BytesIO(r.content))\n",
    "    z.extractall(\"./FDA_database_files/\")\n",
    "    return file\n",
    "\n",
    "def create_FDA_dataframe(file):\n",
    "    return pd.read_csv(file, sep='|', index_col=False, encoding='cp1252')\n",
    "    "
   ]
  },
  {
   "cell_type": "code",
   "execution_count": 35,
   "metadata": {},
   "outputs": [],
   "source": [
    "# Download FDA Cleared 510(k) Submissions\n",
    "FDA_files = ['pmnlstmn','pmn96cur','pmn9195','pmn8690','pmn8185','pmn7680']\n",
    "FDA_local_files = [download_FDA_file(file) for file in FDA_files]\n",
    "FDA_dataframes = [create_FDA_dataframe(file) for file in FDA_local_files]\n",
    "df = pd.concat(FDA_dataframes)\n"
   ]
  },
  {
   "cell_type": "code",
   "execution_count": 44,
   "metadata": {},
   "outputs": [
    {
     "data": {
      "text/plain": [
       "(167285, 22)"
      ]
     },
     "execution_count": 44,
     "metadata": {},
     "output_type": "execute_result"
    }
   ],
   "source": [
    "df.shape"
   ]
  },
  {
   "cell_type": "code",
   "execution_count": null,
   "metadata": {},
   "outputs": [],
   "source": []
  },
  {
   "cell_type": "code",
   "execution_count": null,
   "metadata": {},
   "outputs": [],
   "source": []
  },
  {
   "cell_type": "code",
   "execution_count": null,
   "metadata": {},
   "outputs": [],
   "source": []
  },
  {
   "cell_type": "markdown",
   "metadata": {},
   "source": [
    "Tracing Predicate Devices"
   ]
  },
  {
   "cell_type": "code",
   "execution_count": 49,
   "metadata": {},
   "outputs": [],
   "source": [
    "import re"
   ]
  },
  {
   "cell_type": "code",
   "execution_count": 58,
   "metadata": {},
   "outputs": [],
   "source": [
    "def initialize_class_for_submission(submission_number):\n",
    "    if  re.match('[K,k]\\d{6}', submission_number): \n",
    "        sub = SUBMISSION_510K(submission_number)\n",
    "        sub.get_510k_summary()\n",
    "        sub.get_510k_pdf()\n",
    "        # sub.get_510k_IFU()\n",
    "        sub.find_potential_predicates(sub.PDF_Location)\n",
    "    elif re.match('[D,d][E,e][N,n]\\d{6}', submission_number): \n",
    "        # #De Novo class\n",
    "        sub = SUBMISSION_DE_NOVO(submission_number)\n",
    "        sub.get_De_Novo_summary()\n",
    "        sub.get_Reclassification_pdf()\n",
    "        sub.get_FDA_Review_pdf()\n",
    "        # sub.get_De_Novo_IFU()\n",
    "        sub.find_potential_predicates(sub.PDF_Review_Location)\n",
    "        sub.summarize()\n",
    "    else:\n",
    "        print(\"This does not look like a 510k Submission number!\")\n",
    "        sub = None\n",
    "\n",
    "    return sub"
   ]
  },
  {
   "cell_type": "code",
   "execution_count": 59,
   "metadata": {},
   "outputs": [],
   "source": [
    "starting_submission = 'K232699'\n",
    "starting_sub = initialize_class_for_submission(starting_submission)"
   ]
  },
  {
   "cell_type": "code",
   "execution_count": 60,
   "metadata": {},
   "outputs": [
    {
     "name": "stdout",
     "output_type": "stream",
     "text": [
      "K210392\n",
      "K201446\n",
      "DEN230003\n",
      "Unexpected exception formatting exception. Falling back to standard exception\n"
     ]
    },
    {
     "name": "stderr",
     "output_type": "stream",
     "text": [
      "Traceback (most recent call last):\n",
      "  File \"/Users/adam/Projects/23.10.26_FDA_Scraper/.env/lib/python3.9/site-packages/IPython/core/interactiveshell.py\", line 3526, in run_code\n",
      "    exec(code_obj, self.user_global_ns, self.user_ns)\n",
      "  File \"/var/folders/s6/qclkpdmx04q8gw41wnk6rb1h0000gn/T/ipykernel_60499/827293568.py\", line 5, in <module>\n",
      "    predicate_sub = initialize_class_for_submission(predicate)\n",
      "  File \"/var/folders/s6/qclkpdmx04q8gw41wnk6rb1h0000gn/T/ipykernel_60499/1692115798.py\", line 13, in initialize_class_for_submission\n",
      "    sub.get_FDA_Review_pdf()\n",
      "  File \"/Users/adam/Projects/23.10.26_FDA_Scraper/C_Classes.py\", line 183, in get_FDA_Review_pdf\n",
      "AttributeError: 'SUBMISSION_DE_NOVO' object has no attribute 'FDA_Review_URL'\n",
      "\n",
      "During handling of the above exception, another exception occurred:\n",
      "\n",
      "Traceback (most recent call last):\n",
      "  File \"/Users/adam/Projects/23.10.26_FDA_Scraper/.env/lib/python3.9/site-packages/IPython/core/interactiveshell.py\", line 2120, in showtraceback\n",
      "    stb = self.InteractiveTB.structured_traceback(\n",
      "  File \"/Users/adam/Projects/23.10.26_FDA_Scraper/.env/lib/python3.9/site-packages/IPython/core/ultratb.py\", line 1435, in structured_traceback\n",
      "    return FormattedTB.structured_traceback(\n",
      "  File \"/Users/adam/Projects/23.10.26_FDA_Scraper/.env/lib/python3.9/site-packages/IPython/core/ultratb.py\", line 1326, in structured_traceback\n",
      "    return VerboseTB.structured_traceback(\n",
      "  File \"/Users/adam/Projects/23.10.26_FDA_Scraper/.env/lib/python3.9/site-packages/IPython/core/ultratb.py\", line 1173, in structured_traceback\n",
      "    formatted_exception = self.format_exception_as_a_whole(etype, evalue, etb, number_of_lines_of_context,\n",
      "  File \"/Users/adam/Projects/23.10.26_FDA_Scraper/.env/lib/python3.9/site-packages/IPython/core/ultratb.py\", line 1088, in format_exception_as_a_whole\n",
      "    frames.append(self.format_record(record))\n",
      "  File \"/Users/adam/Projects/23.10.26_FDA_Scraper/.env/lib/python3.9/site-packages/IPython/core/ultratb.py\", line 970, in format_record\n",
      "    frame_info.lines, Colors, self.has_colors, lvals\n",
      "  File \"/Users/adam/Projects/23.10.26_FDA_Scraper/.env/lib/python3.9/site-packages/IPython/core/ultratb.py\", line 792, in lines\n",
      "    return self._sd.lines\n",
      "  File \"/Users/adam/Projects/23.10.26_FDA_Scraper/.env/lib/python3.9/site-packages/stack_data/utils.py\", line 145, in cached_property_wrapper\n",
      "    value = obj.__dict__[self.func.__name__] = self.func(obj)\n",
      "  File \"/Users/adam/Projects/23.10.26_FDA_Scraper/.env/lib/python3.9/site-packages/stack_data/core.py\", line 734, in lines\n",
      "    pieces = self.included_pieces\n",
      "  File \"/Users/adam/Projects/23.10.26_FDA_Scraper/.env/lib/python3.9/site-packages/stack_data/utils.py\", line 145, in cached_property_wrapper\n",
      "    value = obj.__dict__[self.func.__name__] = self.func(obj)\n",
      "  File \"/Users/adam/Projects/23.10.26_FDA_Scraper/.env/lib/python3.9/site-packages/stack_data/core.py\", line 681, in included_pieces\n",
      "    pos = scope_pieces.index(self.executing_piece)\n",
      "  File \"/Users/adam/Projects/23.10.26_FDA_Scraper/.env/lib/python3.9/site-packages/stack_data/utils.py\", line 145, in cached_property_wrapper\n",
      "    value = obj.__dict__[self.func.__name__] = self.func(obj)\n",
      "  File \"/Users/adam/Projects/23.10.26_FDA_Scraper/.env/lib/python3.9/site-packages/stack_data/core.py\", line 660, in executing_piece\n",
      "    return only(\n",
      "  File \"/Users/adam/Projects/23.10.26_FDA_Scraper/.env/lib/python3.9/site-packages/executing/executing.py\", line 116, in only\n",
      "    raise NotOneValueFound('Expected one value, found 0')\n",
      "executing.executing.NotOneValueFound: Expected one value, found 0\n"
     ]
    }
   ],
   "source": [
    "first_layer = []\n",
    "list_of_edges = []\n",
    "for predicate in starting_sub.Potential_Predicates:\n",
    "    print(predicate)\n",
    "    predicate_sub = initialize_class_for_submission(predicate)\n",
    "    list_of_edges.append(starting_sub.Submission_Number + ' -> ' + predicate_sub.Submission_Number)\n",
    "    first_layer.append(predicate_sub)\n",
    "\n",
    "    "
   ]
  },
  {
   "cell_type": "code",
   "execution_count": 57,
   "metadata": {},
   "outputs": [
    {
     "data": {
      "text/plain": [
       "['K232699 -> K210392', 'K232699 -> K201446']"
      ]
     },
     "execution_count": 57,
     "metadata": {},
     "output_type": "execute_result"
    }
   ],
   "source": [
    "list_of_edges"
   ]
  },
  {
   "cell_type": "code",
   "execution_count": null,
   "metadata": {},
   "outputs": [],
   "source": []
  },
  {
   "cell_type": "code",
   "execution_count": 62,
   "metadata": {},
   "outputs": [],
   "source": [
    "from C_Classes import SUBMISSION\n",
    "\n",
    "import re\n",
    "import sys\n",
    "import requests\n",
    "from PyPDF2 import PdfReader \n",
    "from bs4 import BeautifulSoup\n",
    "\n",
    "from F_Functions import find_substring_in_string, clean_IFU, clean_end, clean_start\n"
   ]
  },
  {
   "cell_type": "code",
   "execution_count": null,
   "metadata": {},
   "outputs": [],
   "source": [
    "\n",
    "class SUBMISSION_510K(SUBMISSION):\n",
    "    def __init__(self, number):\n",
    "        SUBMISSION.__init__(self, number)\n",
    "        self.Submission_Type = \"510K\"\n",
    "        if not re.match('[K,k]\\d{6}', number): print(\"This does not look like a 510k Submission number!\")\n",
    "\n",
    "    def get_510k_summary(self):\n",
    "        self.URL = 'https://www.accessdata.fda.gov/scripts/cdrh/cfdocs/cfpmn/pmn.cfm?ID=' + self.Submission_Number\n",
    "        page = requests.get(self.URL)\n",
    "\n",
    "        soup = BeautifulSoup(page.content, \"html.parser\")\n",
    "        tables = soup.find_all('table')\n",
    "        #looks like the 7th table is the one I want\n",
    "        rows = tables[7].find_all('tr')\n",
    "\n",
    "        for row in rows[1:]:\n",
    "            try:\n",
    "                header = row.find(\"th\")\n",
    "                data = row.find('td')\n",
    "                if header.text == \"510(k) Number\": pass\n",
    "                else: self.__setattr__(header.text.replace(\" \",\"_\"),data.text.strip().replace(\"\\n\",\"\").replace(\"\\r\",\"\").replace('\\xa0',\"\").replace('\\t',\"\"))\n",
    "                if header.text == 'Summary': \n",
    "                    link = row.find(\"a\")\n",
    "                    self.Summary_URL = link.get(\"href\")\n",
    "            except Exception as e:\n",
    "                # print(e)\n",
    "                continue                \n",
    "    \n",
    "    def get_510k_pdf(self,output_folder='./output_folder/',silent=True):\n",
    "        success = self.get_pdf(\"510k_Summary\",self.Summary_URL,output_folder=output_folder,silent=silent)\n",
    "\n",
    "        if success:\n",
    "            self.PDF_Downloaded = \"Yes\"\n",
    "            self.PDF_Readable = \"Unknown\"\n",
    "            self.PDF_Location = output_folder+'510k_Summary_'+str(self.Submission_Number)+\".pdf\"\n",
    "        else:\n",
    "            self.PDF_Downloaded = \"No\"\n",
    "            self.PDF_Readable = \"Unknown\"\n",
    "            self.PDF_Location = \"NA\"\n",
    "\n",
    "    def get_510k_IFU(self):\n",
    "        # creating a pdf reader object \n",
    "        reader = PdfReader(self.PDF_Location) \n",
    "                        \n",
    "        # extracting text from page \n",
    "        page = reader.pages[1]\n",
    "        text = page.extract_text() \n",
    "\n",
    "        if text == \"\": \n",
    "            self.PDF_Readable = \"No\"\n",
    "            self.IFU = \"Cannot Read PDF.\"\n",
    "\n",
    "        else:\n",
    "            self.PDF_Readable = \"Yes\"\n",
    "\n",
    "            all_text = \"\"\n",
    "            for page in reader.pages:\n",
    "                text = page.extract_text()\n",
    "                all_text = all_text + text\n",
    "\n",
    "            found, found_snippets = find_substring_in_string(\"Indications for Use\", all_text)\n",
    "            # print(found_snippets)\n",
    "            if found:\n",
    "                for snippet in found_snippets:\n",
    "                    found, IFU = find_substring_in_string(\"Type of Use\", snippet)\n",
    "                    if found: \n",
    "                        temp1 = clean_IFU(IFU[0],'Indications for Use',\"\")\n",
    "                        temp2 = clean_end(temp1)\n",
    "                        temp3 = clean_start(temp2)\n",
    "                        self.IFU = temp3\n",
    "            else: \n",
    "                self.IFU = \"Not Automatically Found.\"\n",
    "    \n"
   ]
  },
  {
   "cell_type": "code",
   "execution_count": 66,
   "metadata": {},
   "outputs": [],
   "source": [
    "class SUBMISSION_PMA(SUBMISSION):\n",
    "    def __init__(self, number):\n",
    "        SUBMISSION.__init__(self, number)\n",
    "        self.Submission_Type = \"PMA\"\n",
    "        if not re.match('[P,p]\\d{6}', number): print(\"This does not look like a PMA Submission number!\")\n",
    "\n",
    "    def get_PMA_summary(self):\n",
    "        self.URL = 'https://www.accessdata.fda.gov/scripts/cdrh/cfdocs/cfpma/pma.cfm?id=' + self.Submission_Number\n",
    "        page = requests.get(self.URL)\n",
    "\n",
    "        soup = BeautifulSoup(page.content, \"html.parser\")\n",
    "        tables = soup.find_all('table')\n",
    "        #looks like the 7th table is the one I want\n",
    "        rows = tables[7].find_all('tr')\n",
    "\n",
    "        for row in rows[1:]:\n",
    "            try:\n",
    "                header = row.find(\"th\")\n",
    "                data = row.find('td')\n",
    "                print('-'*30)\n",
    "                print(header)\n",
    "                print(data)\n",
    "\n",
    "                if header.text == \"510(k) Number\": pass\n",
    "                else: self.__setattr__(header.text.replace(\" \",\"_\"),data.text.strip().replace(\"\\n\",\"\").replace(\"\\r\",\"\").replace('\\xa0',\"\").replace('\\t',\"\"))\n",
    "                if header.text == 'Summary': \n",
    "                    link = row.find(\"a\")\n",
    "                    self.Summary_URL = link.get(\"href\")\n",
    "            except Exception as e:\n",
    "                # print(e)\n",
    "                continue                \n"
   ]
  },
  {
   "cell_type": "code",
   "execution_count": 68,
   "metadata": {},
   "outputs": [
    {
     "name": "stdout",
     "output_type": "stream",
     "text": [
      "------------------------------\n",
      "None\n",
      "<td colspan=\"2\"> </td>\n",
      "------------------------------\n",
      "<th align=\"Left\">Device</th>\n",
      "<td align=\"Left\">CraniSeal Dural Sealant</td>\n",
      "------------------------------\n",
      "<th align=\"Left\">Generic Name</th>\n",
      "<td align=\"Left\">Sealant, dural</td>\n",
      "------------------------------\n",
      "<th align=\"Left\">Applicant</th>\n",
      "<td align=\"Left\">Pramand, LLC<br/>201 Burlington Road, Suite 210<br/>Bedford, MA 01730</td>\n",
      "------------------------------\n",
      "<th align=\"Left\">PMA Number</th>\n",
      "<td align=\"Left\">P220014</td>\n",
      "------------------------------\n",
      "<th align=\"Left\">Date Received</th>\n",
      "<td align=\"Left\">09/02/2022</td>\n",
      "------------------------------\n",
      "<th align=\"Left\">Decision Date</th>\n",
      "<td align=\"Left\">07/06/2023</td>\n",
      "------------------------------\n",
      "<th align=\"Left\">Product Code</th>\n",
      "<td align=\"Left\"><a href=\"/scripts/cdrh/cfdocs/cfPCD/classification.cfm?start_search=1&amp;ProductCode=NQR\" style=\"text-decoration:underline;\" title=\"Products Classification Database information about NQR\">NQR</a> </td>\n",
      "------------------------------\n",
      "<th align=\"Left\">Docket Number</th>\n",
      "<td align=\"Left\"> 23M-3158</td>\n",
      "------------------------------\n",
      "<th align=\"Left\">Notice Date</th>\n",
      "<td align=\"Left\"> 07/28/2023</td>\n",
      "------------------------------\n",
      "<th align=\"Left\">Advisory Committee</th>\n",
      "<td align=\"Left\">Neurology</td>\n",
      "------------------------------\n",
      "<th align=\"Left\">Expedited Review Granted?</th>\n",
      "<td align=\"Left\"> No</td>\n",
      "------------------------------\n",
      "<th align=\"Left\" valign=\"middle\">Combination Product</th>\n",
      "<td align=\"Left\">No</td>\n",
      "------------------------------\n",
      "None\n",
      "<td align=\"left\" colspan=\"2\" style=\"font-size: 9pt;\"><span style=\"font-weight: bold;\">Approval Order Statement</span>  <br/>Approval for the CraniSeal Dural Sealant. The device is indicated for use in patients &gt;= 18 years of age as an adjunct to sutured dural repair during cranial surgery to provide watertight closure.</td>\n",
      "------------------------------\n",
      "<th align=\"left\">Approval Order</th>\n",
      "<td align=\"left\"><a href=\"https://www.accessdata.fda.gov/cdrh_docs/pdf22/P220014A.pdf\" style=\"text-decoration:underline;\" title=\"PDF for P220014A\">Approval Order</a></td>\n",
      "------------------------------\n",
      "<th align=\"left\">Summary</th>\n",
      "<td align=\"left\"><a href=\"https://www.accessdata.fda.gov/cdrh_docs/pdf22/P220014B.pdf\" style=\"text-decoration:underline;\" title=\"PDF for P220014B\">Summary of Safety and Effectiveness</a></td>\n",
      "------------------------------\n",
      "<th align=\"left\">Labeling</th>\n",
      "<td align=\"left\"><a href=\"https://www.accessdata.fda.gov/cdrh_docs/pdf22/P220014C.pdf\" style=\"text-decoration:underline;\" title=\"PDF for P220014C\">Labeling</a><br/></td>\n",
      "------------------------------\n",
      "<th align=\"left\">Post-Approval Study</th>\n",
      "<td align=\"left\"><a href=\"/scripts/cdrh/cfdocs/cfpma/pma_pas.cfm?tid=772341\" style=\"text-decoration:underline;\" title=\"Show Report Schedule and Study Progress at Post Approval Studies\">Show Report Schedule and Study Progress</a></td>\n",
      "------------------------------\n",
      "<th align=\"Left\">Supplements:</th>\n",
      "<td align=\"Left\"><a href=\"/scripts/cdrh/cfdocs/cfpma/pma.cfm?start_search=1&amp;PMANumber=P220014&amp;SupplementNumber=\" style=\"text-decoration:underline;\"></a> </td>\n"
     ]
    }
   ],
   "source": [
    "Number = 'P220014'\n",
    "# Number = 'P220004'\n",
    "# Number = 'P230002'\n",
    "# Number = 'P220005'\n",
    "\n",
    "sub = SUBMISSION_PMA(Number)\n",
    "sub.get_PMA_summary()"
   ]
  },
  {
   "cell_type": "code",
   "execution_count": 69,
   "metadata": {},
   "outputs": [
    {
     "name": "stdout",
     "output_type": "stream",
     "text": [
      "Submission_Number: P220014 \n",
      "Submission_Type: PMA \n",
      "URL: https://www.accessdata.fda.gov/scripts/cdrh/cfdocs/cfpma/pma.cfm?id=P220014 \n",
      "Device: CraniSeal Dural Sealant \n",
      "Generic_Name: Sealant, dural \n",
      "Applicant: Pramand, LLC201 Burlington Road, Suite 210Bedford,MA01730 \n",
      "PMA_Number: P220014 \n",
      "Date_Received: 09/02/2022 \n",
      "Decision_Date: 07/06/2023 \n",
      "Product_Code: NQR \n",
      "Docket_Number: 23M-3158 \n",
      "Notice_Date: 07/28/2023 \n",
      "Advisory_Committee: Neurology \n",
      "Expedited_Review_Granted?: No \n",
      "Combination_Product: No \n",
      "Approval_Order: Approval Order \n",
      "Summary: Summary of Safety and Effectiveness \n",
      "Summary_URL: https://www.accessdata.fda.gov/cdrh_docs/pdf22/P220014B.pdf \n",
      "Labeling: Labeling \n",
      "Post-Approval_Study: Show Report Schedule and Study Progress \n",
      "Supplements::  \n",
      "\n"
     ]
    }
   ],
   "source": [
    "sub.summarize()"
   ]
  },
  {
   "cell_type": "code",
   "execution_count": null,
   "metadata": {},
   "outputs": [],
   "source": []
  }
 ],
 "metadata": {
  "kernelspec": {
   "display_name": ".env",
   "language": "python",
   "name": "python3"
  },
  "language_info": {
   "codemirror_mode": {
    "name": "ipython",
    "version": 3
   },
   "file_extension": ".py",
   "mimetype": "text/x-python",
   "name": "python",
   "nbconvert_exporter": "python",
   "pygments_lexer": "ipython3",
   "version": "3.9.6"
  }
 },
 "nbformat": 4,
 "nbformat_minor": 2
}
